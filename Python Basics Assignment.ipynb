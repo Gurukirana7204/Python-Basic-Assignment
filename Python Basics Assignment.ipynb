{
 "cells": [
  {
   "cell_type": "markdown",
   "id": "eeaed259-579f-4577-93fa-1634706a8af9",
   "metadata": {},
   "source": [
    "1) Explain the key features of Python that make it a popular choice for programming"
   ]
  },
  {
   "cell_type": "code",
   "execution_count": 1,
   "id": "d8d1c14c-07c2-4212-8242-9a3f75f091da",
   "metadata": {},
   "outputs": [],
   "source": [
    "#High level language and straightforward.\n",
    "#It is execute the code line by line.\n",
    "#Scripting.\n",
    "#Dynamically typed >> it will check data type while execution.\n",
    "#Object orientated programming.\n",
    "#Quick coding >> with in a few line it will solu complex problem.\n",
    "#Large standard library >> like Numpy, Pandas, Matplotlip<, seaborn.\n",
    "#GRaphical user interface(GUI)support.\n",
    "#Open source and free."
   ]
  },
  {
   "cell_type": "markdown",
   "id": "790dc453-7857-485a-a955-6683e473a69a",
   "metadata": {},
   "source": []
  },
  {
   "cell_type": "markdown",
   "id": "b232e488-d88a-4f2c-aef1-d1b79f818177",
   "metadata": {},
   "source": [
    "2) Describe the role of predefined keywords in Python and provide examples of how they are used in a \n",
    "program"
   ]
  },
  {
   "cell_type": "code",
   "execution_count": 7,
   "id": "a8b5e1b5-6262-4fbc-9af3-6c1f2bb61e78",
   "metadata": {},
   "outputs": [],
   "source": [
    "#Keywords are the reserved words whose meaning aleady defined inthe python interpreter.\n",
    "#We can not use a keyword as a variable name, method name, or any other identifier.\n",
    "#Python keywords are the case sensitive."
   ]
  },
  {
   "cell_type": "code",
   "execution_count": 19,
   "id": "f1cce22d-9b8f-488f-8cf7-b96e382829d1",
   "metadata": {},
   "outputs": [
    {
     "data": {
      "text/plain": [
       "['False',\n",
       " 'None',\n",
       " 'True',\n",
       " 'and',\n",
       " 'as',\n",
       " 'assert',\n",
       " 'async',\n",
       " 'await',\n",
       " 'break',\n",
       " 'class',\n",
       " 'continue',\n",
       " 'def',\n",
       " 'del',\n",
       " 'elif',\n",
       " 'else',\n",
       " 'except',\n",
       " 'finally',\n",
       " 'for',\n",
       " 'from',\n",
       " 'global',\n",
       " 'if',\n",
       " 'import',\n",
       " 'in',\n",
       " 'is',\n",
       " 'lambda',\n",
       " 'nonlocal',\n",
       " 'not',\n",
       " 'or',\n",
       " 'pass',\n",
       " 'raise',\n",
       " 'return',\n",
       " 'try',\n",
       " 'while',\n",
       " 'with',\n",
       " 'yield']"
      ]
     },
     "execution_count": 19,
     "metadata": {},
     "output_type": "execute_result"
    }
   ],
   "source": [
    "import keyword\n",
    "keyword.kwlist"
   ]
  },
  {
   "cell_type": "code",
   "execution_count": 21,
   "id": "bc884c11-84cf-43f6-ba16-9ac250b23ae2",
   "metadata": {},
   "outputs": [
    {
     "data": {
      "text/plain": [
       "int"
      ]
     },
     "execution_count": 21,
     "metadata": {},
     "output_type": "execute_result"
    }
   ],
   "source": [
    "a = 5\n",
    "type(a)"
   ]
  },
  {
   "cell_type": "code",
   "execution_count": 23,
   "id": "a089bbff-96c4-4adf-a931-be8558b7deab",
   "metadata": {},
   "outputs": [
    {
     "data": {
      "text/plain": [
       "str"
      ]
     },
     "execution_count": 23,
     "metadata": {},
     "output_type": "execute_result"
    }
   ],
   "source": [
    "a = \"Guru\"\n",
    "type(a)"
   ]
  },
  {
   "cell_type": "code",
   "execution_count": 30,
   "id": "ca05d243-5985-48f8-85e8-21fd3812828e",
   "metadata": {},
   "outputs": [
    {
     "data": {
      "text/plain": [
       "float"
      ]
     },
     "execution_count": 30,
     "metadata": {},
     "output_type": "execute_result"
    }
   ],
   "source": [
    "b = 2.4\n",
    "type(b)"
   ]
  },
  {
   "cell_type": "code",
   "execution_count": 34,
   "id": "b31a5331-9abb-4a26-8b46-db064630f9f9",
   "metadata": {},
   "outputs": [
    {
     "data": {
      "text/plain": [
       "bool"
      ]
     },
     "execution_count": 34,
     "metadata": {},
     "output_type": "execute_result"
    }
   ],
   "source": [
    "g = True\n",
    "type(g)"
   ]
  },
  {
   "cell_type": "code",
   "execution_count": 36,
   "id": "9d156626-3493-4d1f-ab74-e589f2059dd4",
   "metadata": {},
   "outputs": [
    {
     "data": {
      "text/plain": [
       "0"
      ]
     },
     "execution_count": 36,
     "metadata": {},
     "output_type": "execute_result"
    }
   ],
   "source": [
    "True*False"
   ]
  },
  {
   "cell_type": "code",
   "execution_count": 38,
   "id": "05136bdd-526b-435d-a9df-a4c55dbb8e6b",
   "metadata": {},
   "outputs": [
    {
     "data": {
      "text/plain": [
       "complex"
      ]
     },
     "execution_count": 38,
     "metadata": {},
     "output_type": "execute_result"
    }
   ],
   "source": [
    "c = 5*8j\n",
    "type(c)"
   ]
  },
  {
   "cell_type": "code",
   "execution_count": 40,
   "id": "38a19a70-a8e5-4256-88ae-30baee88b99a",
   "metadata": {},
   "outputs": [
    {
     "data": {
      "text/plain": [
       "40.0"
      ]
     },
     "execution_count": 40,
     "metadata": {},
     "output_type": "execute_result"
    }
   ],
   "source": [
    "c.imag"
   ]
  },
  {
   "cell_type": "code",
   "execution_count": 42,
   "id": "8422d087-ec76-460a-9c0a-d793b80773ba",
   "metadata": {},
   "outputs": [
    {
     "data": {
      "text/plain": [
       "0.0"
      ]
     },
     "execution_count": 42,
     "metadata": {},
     "output_type": "execute_result"
    }
   ],
   "source": [
    "c.real"
   ]
  },
  {
   "cell_type": "code",
   "execution_count": null,
   "id": "4602fd7f-97d8-4ed1-9263-85b44043041c",
   "metadata": {},
   "outputs": [],
   "source": []
  },
  {
   "cell_type": "code",
   "execution_count": null,
   "id": "d1429f30-1526-4c7f-8216-630d8ae420e1",
   "metadata": {},
   "outputs": [],
   "source": [
    "if 3 > 2:\n",
    "    print(\"3 is grater then 2\")\n",
    "else:\n",
    "    print( \""
   ]
  },
  {
   "cell_type": "code",
   "execution_count": null,
   "id": "c0f4a606-8add-4014-98c0-086b6cceafcb",
   "metadata": {},
   "outputs": [],
   "source": [
    "3 is less then 2\" )"
   ]
  },
  {
   "cell_type": "code",
   "execution_count": null,
   "id": "5e67994c-053f-481d-bcd3-0e57dae14378",
   "metadata": {},
   "outputs": [],
   "source": []
  },
  {
   "cell_type": "code",
   "execution_count": 54,
   "id": "a212b269-bb75-4128-84c1-5afd72a55b5c",
   "metadata": {},
   "outputs": [
    {
     "name": "stdin",
     "output_type": "stream",
     "text": [
      " Please enter your name: Raju\n"
     ]
    }
   ],
   "source": [
    "Name = input(\" Please enter your name:\")"
   ]
  },
  {
   "cell_type": "code",
   "execution_count": 52,
   "id": "c2714824-a400-4e88-ace7-890e5d44f09e",
   "metadata": {},
   "outputs": [
    {
     "data": {
      "text/plain": [
       "'Raju'"
      ]
     },
     "execution_count": 52,
     "metadata": {},
     "output_type": "execute_result"
    }
   ],
   "source": [
    "Name"
   ]
  },
  {
   "cell_type": "code",
   "execution_count": null,
   "id": "71a2bbc0-e5a4-49bb-850f-fd9cf2b659c4",
   "metadata": {},
   "outputs": [],
   "source": []
  },
  {
   "cell_type": "markdown",
   "id": "c39a9354-17d0-4ba6-a88f-545818341fb4",
   "metadata": {},
   "source": [
    " 3) Compare and contrast mutable and immutable objects in Python with examples"
   ]
  },
  {
   "cell_type": "code",
   "execution_count": 9,
   "id": "8c843666-d319-4ad9-8647-f682a9b64a9b",
   "metadata": {},
   "outputs": [],
   "source": [
    "#Mutable data types can changes like add or delet any data after create data, It supports to item assignments\n",
    "#Immutable data types cannot make any changes after create data\n",
    "#\n",
    "#Mutable datatypes >> Lists, Dictionary, Sets.\n",
    "#Immutable datatypes >> Integers, Strings, Tuples"
   ]
  },
  {
   "cell_type": "code",
   "execution_count": 17,
   "id": "2a0823d9-efaf-4c5c-ab72-8dc356aada93",
   "metadata": {},
   "outputs": [],
   "source": [
    "list = [ 1, 2, 8.6, 10+5j, \"Naveen\", True]"
   ]
  },
  {
   "cell_type": "code",
   "execution_count": 19,
   "id": "ca587f22-29ad-41e7-9422-353f69aee88e",
   "metadata": {},
   "outputs": [
    {
     "data": {
      "text/plain": [
       "8.6"
      ]
     },
     "execution_count": 19,
     "metadata": {},
     "output_type": "execute_result"
    }
   ],
   "source": [
    "list[2]"
   ]
  },
  {
   "cell_type": "code",
   "execution_count": 21,
   "id": "2a4c3786-69c8-4792-a82f-b779d2d14ebe",
   "metadata": {},
   "outputs": [],
   "source": [
    "list[2]= 9.5"
   ]
  },
  {
   "cell_type": "code",
   "execution_count": 23,
   "id": "f1ca6572-e543-4e1b-b1aa-59530f4d574d",
   "metadata": {},
   "outputs": [
    {
     "data": {
      "text/plain": [
       "[1, 2, 9.5, (10+5j), 'Naveen', True]"
      ]
     },
     "execution_count": 23,
     "metadata": {},
     "output_type": "execute_result"
    }
   ],
   "source": [
    "list"
   ]
  },
  {
   "cell_type": "code",
   "execution_count": null,
   "id": "92a7b52b-3c05-4a3e-9fbb-acfa47561065",
   "metadata": {},
   "outputs": [],
   "source": []
  },
  {
   "cell_type": "code",
   "execution_count": 28,
   "id": "6089e777-7bb7-4b91-a367-d6fe1c917028",
   "metadata": {},
   "outputs": [
    {
     "data": {
      "text/plain": [
       "'Naveen'"
      ]
     },
     "execution_count": 28,
     "metadata": {},
     "output_type": "execute_result"
    }
   ],
   "source": [
    "list[4]"
   ]
  },
  {
   "cell_type": "code",
   "execution_count": 31,
   "id": "0d94dd9b-676f-4145-ba79-2ff2aa7ff049",
   "metadata": {},
   "outputs": [],
   "source": [
    "list[4]= \"Ravi\""
   ]
  },
  {
   "cell_type": "code",
   "execution_count": 33,
   "id": "ee76faac-84b7-4096-9e44-af8c29b12242",
   "metadata": {},
   "outputs": [
    {
     "data": {
      "text/plain": [
       "[1, 2, 9.5, (10+5j), 'Ravi', True]"
      ]
     },
     "execution_count": 33,
     "metadata": {},
     "output_type": "execute_result"
    }
   ],
   "source": [
    "list"
   ]
  },
  {
   "cell_type": "code",
   "execution_count": null,
   "id": "0db0fb1d-efe0-472e-a147-23fbc6501906",
   "metadata": {},
   "outputs": [],
   "source": []
  },
  {
   "cell_type": "code",
   "execution_count": 38,
   "id": "f0a6349b-5f8a-4e48-9fe7-1764de966211",
   "metadata": {},
   "outputs": [
    {
     "data": {
      "text/plain": [
       "' Vivekananda '"
      ]
     },
     "execution_count": 38,
     "metadata": {},
     "output_type": "execute_result"
    }
   ],
   "source": [
    "a = \" Vivekananda \"\n",
    "a"
   ]
  },
  {
   "cell_type": "code",
   "execution_count": 40,
   "id": "559fce37-8f5c-4fa7-ac37-3b3a721a5361",
   "metadata": {},
   "outputs": [
    {
     "ename": "NameError",
     "evalue": "name 'ee' is not defined",
     "output_type": "error",
     "traceback": [
      "\u001b[1;31m---------------------------------------------------------------------------\u001b[0m",
      "\u001b[1;31mNameError\u001b[0m                                 Traceback (most recent call last)",
      "Cell \u001b[1;32mIn[40], line 1\u001b[0m\n\u001b[1;32m----> 1\u001b[0m a[\u001b[38;5;241m1\u001b[39m] \u001b[38;5;241m=\u001b[39m ee\n",
      "\u001b[1;31mNameError\u001b[0m: name 'ee' is not defined"
     ]
    }
   ],
   "source": [
    "a[1] = ee"
   ]
  },
  {
   "cell_type": "code",
   "execution_count": null,
   "id": "dbf9340c-10b8-4ebd-8627-51079b73adb2",
   "metadata": {},
   "outputs": [],
   "source": []
  },
  {
   "cell_type": "markdown",
   "id": "0b36cae7-1568-4cbb-9c97-dca6233253fe",
   "metadata": {},
   "source": [
    "4) Discuss the different types of operators in Python and provide examples of how they are used"
   ]
  },
  {
   "cell_type": "code",
   "execution_count": 11,
   "id": "0a9e37cf-c6a4-4447-b961-541d618362c9",
   "metadata": {},
   "outputs": [],
   "source": [
    "#Operater is nothing but symbals that perform a certain task\n",
    "#\n",
    "#Various set of operators in python\n",
    "#1.Arithmetic operator\n",
    "#3.Logical operator\n",
    "#4.Bitwise operator\n",
    "#5.Assignment operator\n",
    "#6.Conditional operator\n",
    "#7.Membership operator\n",
    "#8.Identity operator"
   ]
  },
  {
   "cell_type": "code",
   "execution_count": 13,
   "id": "ef7b5b38-10b9-450b-b1a5-66b7853c134c",
   "metadata": {},
   "outputs": [],
   "source": [
    "#1.Arithmetic operator"
   ]
  },
  {
   "cell_type": "code",
   "execution_count": 50,
   "id": "8cc4e644-8234-4e1b-afcd-8e7bbed3a351",
   "metadata": {},
   "outputs": [],
   "source": [
    "a = 8\n",
    "b = 6"
   ]
  },
  {
   "cell_type": "code",
   "execution_count": 64,
   "id": "403a0a74-7eec-4e30-b409-5e7f4e73a7b5",
   "metadata": {},
   "outputs": [
    {
     "data": {
      "text/plain": [
       "14"
      ]
     },
     "execution_count": 64,
     "metadata": {},
     "output_type": "execute_result"
    }
   ],
   "source": [
    "a+b   #addition"
   ]
  },
  {
   "cell_type": "code",
   "execution_count": 68,
   "id": "c8ca7da8-9a11-4169-a84d-418a9e87fa6b",
   "metadata": {},
   "outputs": [
    {
     "data": {
      "text/plain": [
       "2"
      ]
     },
     "execution_count": 68,
     "metadata": {},
     "output_type": "execute_result"
    }
   ],
   "source": [
    "a-b   #substraction"
   ]
  },
  {
   "cell_type": "code",
   "execution_count": 56,
   "id": "fabf7669-9755-4573-97f3-b2c3eacc8f4c",
   "metadata": {},
   "outputs": [
    {
     "data": {
      "text/plain": [
       "48"
      ]
     },
     "execution_count": 56,
     "metadata": {},
     "output_type": "execute_result"
    }
   ],
   "source": [
    "a*b  #multiplication"
   ]
  },
  {
   "cell_type": "code",
   "execution_count": 58,
   "id": "deeb3f96-d6b7-4339-85a7-8d16c46cb3f1",
   "metadata": {},
   "outputs": [
    {
     "data": {
      "text/plain": [
       "1.3333333333333333"
      ]
     },
     "execution_count": 58,
     "metadata": {},
     "output_type": "execute_result"
    }
   ],
   "source": [
    "a/b  #divid"
   ]
  },
  {
   "cell_type": "code",
   "execution_count": 60,
   "id": "97d8e336-6f4a-4a55-9f73-19973a07ccde",
   "metadata": {},
   "outputs": [
    {
     "data": {
      "text/plain": [
       "2"
      ]
     },
     "execution_count": 60,
     "metadata": {},
     "output_type": "execute_result"
    }
   ],
   "source": [
    "a%b  #modulus"
   ]
  },
  {
   "cell_type": "code",
   "execution_count": 70,
   "id": "736f13ca-de7e-4704-bff6-4f4534b88466",
   "metadata": {},
   "outputs": [
    {
     "data": {
      "text/plain": [
       "512"
      ]
     },
     "execution_count": 70,
     "metadata": {},
     "output_type": "execute_result"
    }
   ],
   "source": [
    "8**3  #power "
   ]
  },
  {
   "cell_type": "code",
   "execution_count": 72,
   "id": "d1d39cb6-0a51-48d4-b946-0dfb543d5577",
   "metadata": {},
   "outputs": [
    {
     "data": {
      "text/plain": [
       "1"
      ]
     },
     "execution_count": 72,
     "metadata": {},
     "output_type": "execute_result"
    }
   ],
   "source": [
    "a//b  #floor operater"
   ]
  },
  {
   "cell_type": "code",
   "execution_count": 15,
   "id": "03886e58-a2c7-4966-91c8-7e858e1ab418",
   "metadata": {},
   "outputs": [],
   "source": [
    "#2.Relational operator"
   ]
  },
  {
   "cell_type": "code",
   "execution_count": 74,
   "id": "6e38b14f-bdcd-4854-ae49-227674adbf17",
   "metadata": {},
   "outputs": [
    {
     "data": {
      "text/plain": [
       "True"
      ]
     },
     "execution_count": 74,
     "metadata": {},
     "output_type": "execute_result"
    }
   ],
   "source": [
    "a>b"
   ]
  },
  {
   "cell_type": "code",
   "execution_count": 76,
   "id": "cd8a41c7-d173-42de-9af6-9d10518575b8",
   "metadata": {},
   "outputs": [
    {
     "data": {
      "text/plain": [
       "False"
      ]
     },
     "execution_count": 76,
     "metadata": {},
     "output_type": "execute_result"
    }
   ],
   "source": [
    "a<b"
   ]
  },
  {
   "cell_type": "code",
   "execution_count": 78,
   "id": "9db6d635-158e-4ace-9d8f-361787d4749f",
   "metadata": {},
   "outputs": [
    {
     "data": {
      "text/plain": [
       "False"
      ]
     },
     "execution_count": 78,
     "metadata": {},
     "output_type": "execute_result"
    }
   ],
   "source": [
    "a<=b"
   ]
  },
  {
   "cell_type": "code",
   "execution_count": 80,
   "id": "989df0c4-daf9-42d8-8473-4a02cb257747",
   "metadata": {},
   "outputs": [
    {
     "data": {
      "text/plain": [
       "True"
      ]
     },
     "execution_count": 80,
     "metadata": {},
     "output_type": "execute_result"
    }
   ],
   "source": [
    "a>=b"
   ]
  },
  {
   "cell_type": "code",
   "execution_count": 82,
   "id": "5d0c6fbe-ff34-49ba-8baa-8bdbcda08613",
   "metadata": {},
   "outputs": [
    {
     "data": {
      "text/plain": [
       "False"
      ]
     },
     "execution_count": 82,
     "metadata": {},
     "output_type": "execute_result"
    }
   ],
   "source": [
    "a==b"
   ]
  },
  {
   "cell_type": "code",
   "execution_count": 17,
   "id": "6e8990c9-e43e-459d-aa44-26e5ab8a702c",
   "metadata": {},
   "outputs": [],
   "source": [
    "#3.Logical operator"
   ]
  },
  {
   "cell_type": "code",
   "execution_count": 86,
   "id": "247c0c90-fc95-4e86-b4ec-b50eb46754de",
   "metadata": {},
   "outputs": [
    {
     "data": {
      "text/plain": [
       "False"
      ]
     },
     "execution_count": 86,
     "metadata": {},
     "output_type": "execute_result"
    }
   ],
   "source": [
    "a<b and a>b"
   ]
  },
  {
   "cell_type": "code",
   "execution_count": 88,
   "id": "a445c649-b0d9-41b4-a672-9262b4c202d7",
   "metadata": {},
   "outputs": [
    {
     "data": {
      "text/plain": [
       "True"
      ]
     },
     "execution_count": 88,
     "metadata": {},
     "output_type": "execute_result"
    }
   ],
   "source": [
    "a<b or a>b"
   ]
  },
  {
   "cell_type": "code",
   "execution_count": 90,
   "id": "967d0bfb-2956-4417-b5b3-7eac923e1e74",
   "metadata": {},
   "outputs": [
    {
     "data": {
      "text/plain": [
       "True"
      ]
     },
     "execution_count": 90,
     "metadata": {},
     "output_type": "execute_result"
    }
   ],
   "source": [
    "not(a<b and a>b)"
   ]
  },
  {
   "cell_type": "code",
   "execution_count": 19,
   "id": "c39765b2-1284-47a5-967a-b3f542c959a6",
   "metadata": {},
   "outputs": [],
   "source": [
    "#4.Assignment operator"
   ]
  },
  {
   "cell_type": "code",
   "execution_count": 94,
   "id": "16aff318-c736-4a95-b539-54fe0e7f70d6",
   "metadata": {},
   "outputs": [],
   "source": [
    "a = 12"
   ]
  },
  {
   "cell_type": "code",
   "execution_count": 96,
   "id": "8a85f1a3-9370-4413-9fe7-1280e12bd151",
   "metadata": {},
   "outputs": [
    {
     "data": {
      "text/plain": [
       "12"
      ]
     },
     "execution_count": 96,
     "metadata": {},
     "output_type": "execute_result"
    }
   ],
   "source": [
    "a"
   ]
  },
  {
   "cell_type": "code",
   "execution_count": 98,
   "id": "26bf3cf6-6b17-4be6-85da-8c9e9e6f3025",
   "metadata": {},
   "outputs": [
    {
     "data": {
      "text/plain": [
       "26"
      ]
     },
     "execution_count": 98,
     "metadata": {},
     "output_type": "execute_result"
    }
   ],
   "source": [
    "a+14"
   ]
  },
  {
   "cell_type": "code",
   "execution_count": 100,
   "id": "0fd83fd9-e2ac-4619-8b11-2289b70e2fe7",
   "metadata": {},
   "outputs": [
    {
     "data": {
      "text/plain": [
       "24"
      ]
     },
     "execution_count": 100,
     "metadata": {},
     "output_type": "execute_result"
    }
   ],
   "source": [
    "a*2"
   ]
  },
  {
   "cell_type": "code",
   "execution_count": null,
   "id": "39eb32c5-e5c7-4496-869a-5cdd54bd405c",
   "metadata": {},
   "outputs": [],
   "source": []
  },
  {
   "cell_type": "code",
   "execution_count": 102,
   "id": "74ebbbed-7967-4ad7-9904-379a43dbd81e",
   "metadata": {},
   "outputs": [],
   "source": [
    "a+=10"
   ]
  },
  {
   "cell_type": "code",
   "execution_count": 104,
   "id": "f9714b68-3535-4d5e-b5a1-a9a20b3055e7",
   "metadata": {},
   "outputs": [
    {
     "data": {
      "text/plain": [
       "22"
      ]
     },
     "execution_count": 104,
     "metadata": {},
     "output_type": "execute_result"
    }
   ],
   "source": [
    "a"
   ]
  },
  {
   "cell_type": "code",
   "execution_count": 106,
   "id": "2683fe8e-9ad1-41b8-a886-c8987d119576",
   "metadata": {},
   "outputs": [],
   "source": [
    "a*=4"
   ]
  },
  {
   "cell_type": "code",
   "execution_count": 108,
   "id": "e9608987-8870-4026-a6e2-13578fe4912c",
   "metadata": {},
   "outputs": [
    {
     "data": {
      "text/plain": [
       "88"
      ]
     },
     "execution_count": 108,
     "metadata": {},
     "output_type": "execute_result"
    }
   ],
   "source": [
    "a"
   ]
  },
  {
   "cell_type": "code",
   "execution_count": null,
   "id": "c3fd4e85-b45c-4126-aa59-6e79bdf39f6d",
   "metadata": {},
   "outputs": [],
   "source": []
  },
  {
   "cell_type": "code",
   "execution_count": 21,
   "id": "a0a6f869-4299-45cd-b22e-5e96cf844453",
   "metadata": {},
   "outputs": [],
   "source": [
    "#5.Membership operator"
   ]
  },
  {
   "cell_type": "code",
   "execution_count": 111,
   "id": "41490c4b-beb0-4788-8337-74cbd60cfcc9",
   "metadata": {},
   "outputs": [],
   "source": [
    "a = \"Radha krishna\""
   ]
  },
  {
   "cell_type": "code",
   "execution_count": 119,
   "id": "5d109721-d5c0-44b5-916a-7b1c6a7d8308",
   "metadata": {},
   "outputs": [
    {
     "data": {
      "text/plain": [
       "True"
      ]
     },
     "execution_count": 119,
     "metadata": {},
     "output_type": "execute_result"
    }
   ],
   "source": [
    "\"R\" in a"
   ]
  },
  {
   "cell_type": "code",
   "execution_count": 121,
   "id": "0bd19a25-768a-4676-8275-3cdde746d076",
   "metadata": {},
   "outputs": [
    {
     "data": {
      "text/plain": [
       "False"
      ]
     },
     "execution_count": 121,
     "metadata": {},
     "output_type": "execute_result"
    }
   ],
   "source": [
    "\"W\" in a"
   ]
  },
  {
   "cell_type": "code",
   "execution_count": 123,
   "id": "f31afe12-d7a4-4c82-b239-55e370a48afa",
   "metadata": {},
   "outputs": [
    {
     "data": {
      "text/plain": [
       "False"
      ]
     },
     "execution_count": 123,
     "metadata": {},
     "output_type": "execute_result"
    }
   ],
   "source": [
    "\"k\" not in a"
   ]
  },
  {
   "cell_type": "code",
   "execution_count": 125,
   "id": "5168c9cd-cbcf-480f-b003-f77794d48ff4",
   "metadata": {},
   "outputs": [],
   "source": [
    "a = [ \"Raja\", \"tanu\", 1, 3.5]"
   ]
  },
  {
   "cell_type": "code",
   "execution_count": 127,
   "id": "d4fd7148-ed43-4a0a-ba2e-fffd21bc5296",
   "metadata": {},
   "outputs": [
    {
     "data": {
      "text/plain": [
       "True"
      ]
     },
     "execution_count": 127,
     "metadata": {},
     "output_type": "execute_result"
    }
   ],
   "source": [
    "\"tanu\" in a"
   ]
  },
  {
   "cell_type": "code",
   "execution_count": 129,
   "id": "8ec12462-cd46-4d0f-803d-5443018b3fd9",
   "metadata": {},
   "outputs": [
    {
     "data": {
      "text/plain": [
       "True"
      ]
     },
     "execution_count": 129,
     "metadata": {},
     "output_type": "execute_result"
    }
   ],
   "source": [
    "\"2\" not in a"
   ]
  },
  {
   "cell_type": "code",
   "execution_count": 23,
   "id": "8d81af5c-1616-4964-9442-2cc0d4b22f63",
   "metadata": {},
   "outputs": [],
   "source": [
    "#6.Identity operator"
   ]
  },
  {
   "cell_type": "code",
   "execution_count": 131,
   "id": "c8a4f931-cb96-4157-92ad-b35386e61446",
   "metadata": {},
   "outputs": [],
   "source": [
    "a = 2\n",
    "b = 5"
   ]
  },
  {
   "cell_type": "code",
   "execution_count": 133,
   "id": "652340c9-b926-4f9a-95b1-5b86434bd7dd",
   "metadata": {},
   "outputs": [
    {
     "data": {
      "text/plain": [
       "False"
      ]
     },
     "execution_count": 133,
     "metadata": {},
     "output_type": "execute_result"
    }
   ],
   "source": [
    "a is b"
   ]
  },
  {
   "cell_type": "code",
   "execution_count": 135,
   "id": "546f1588-1a27-447a-92a3-996f576fa57a",
   "metadata": {},
   "outputs": [
    {
     "data": {
      "text/plain": [
       "True"
      ]
     },
     "execution_count": 135,
     "metadata": {},
     "output_type": "execute_result"
    }
   ],
   "source": [
    "a is not b"
   ]
  },
  {
   "cell_type": "code",
   "execution_count": 25,
   "id": "76aacf38-c7e3-425e-96d5-3f413087fd93",
   "metadata": {},
   "outputs": [],
   "source": [
    "#7.Bitwise operator"
   ]
  },
  {
   "cell_type": "code",
   "execution_count": 137,
   "id": "211c1970-a45d-4d69-ad18-a1e3b8716836",
   "metadata": {},
   "outputs": [
    {
     "data": {
      "text/plain": [
       "'0b101'"
      ]
     },
     "execution_count": 137,
     "metadata": {},
     "output_type": "execute_result"
    }
   ],
   "source": [
    "bin(5)"
   ]
  },
  {
   "cell_type": "code",
   "execution_count": 139,
   "id": "4a5cfc1e-1171-42b1-bf4d-9cd525e499e0",
   "metadata": {},
   "outputs": [
    {
     "data": {
      "text/plain": [
       "'0b1010'"
      ]
     },
     "execution_count": 139,
     "metadata": {},
     "output_type": "execute_result"
    }
   ],
   "source": [
    "bin(10)"
   ]
  },
  {
   "cell_type": "code",
   "execution_count": 151,
   "id": "9ceeacb6-23c2-4f45-8ad7-7ba241df53d0",
   "metadata": {},
   "outputs": [
    {
     "data": {
      "text/plain": [
       "2"
      ]
     },
     "execution_count": 151,
     "metadata": {},
     "output_type": "execute_result"
    }
   ],
   "source": [
    "18 & 3"
   ]
  },
  {
   "cell_type": "code",
   "execution_count": 153,
   "id": "c2e69d8a-5147-4783-921d-d8c26cd0e6f3",
   "metadata": {},
   "outputs": [
    {
     "data": {
      "text/plain": [
       "19"
      ]
     },
     "execution_count": 153,
     "metadata": {},
     "output_type": "execute_result"
    }
   ],
   "source": [
    "18 | 3"
   ]
  },
  {
   "cell_type": "code",
   "execution_count": null,
   "id": "e1c7e4a4-21ec-49e3-bb40-c6688e7d1684",
   "metadata": {},
   "outputs": [],
   "source": []
  },
  {
   "cell_type": "markdown",
   "id": "2806a489-79ca-4bf6-9203-e77e75b58484",
   "metadata": {},
   "source": [
    "5) Explain the concept of type casting in Python with examples\n"
   ]
  },
  {
   "cell_type": "code",
   "execution_count": 27,
   "id": "77e9d863-6a3f-4d8b-bad3-ca59f928987d",
   "metadata": {},
   "outputs": [],
   "source": [
    "#Type casting, also known as type conversion the datatype, This is the process of changing one data type to another in Python. "
   ]
  },
  {
   "cell_type": "code",
   "execution_count": 158,
   "id": "9151eeff-a5d2-49a1-935e-a0a69e4cb1a4",
   "metadata": {},
   "outputs": [
    {
     "data": {
      "text/plain": [
       "2"
      ]
     },
     "execution_count": 158,
     "metadata": {},
     "output_type": "execute_result"
    }
   ],
   "source": [
    "a = 2\n",
    "a"
   ]
  },
  {
   "cell_type": "code",
   "execution_count": 164,
   "id": "e3815411-790e-4508-a422-561dc2edd301",
   "metadata": {},
   "outputs": [
    {
     "data": {
      "text/plain": [
       "'2'"
      ]
     },
     "execution_count": 164,
     "metadata": {},
     "output_type": "execute_result"
    }
   ],
   "source": [
    "str(a)"
   ]
  },
  {
   "cell_type": "code",
   "execution_count": 166,
   "id": "76bb1c01-bc8a-4aa4-9c68-8eb063873a61",
   "metadata": {},
   "outputs": [],
   "source": [
    "b = \"10\""
   ]
  },
  {
   "cell_type": "code",
   "execution_count": 172,
   "id": "ccfc4ae4-8474-4e57-913f-021bc735d66f",
   "metadata": {},
   "outputs": [
    {
     "data": {
      "text/plain": [
       "str"
      ]
     },
     "execution_count": 172,
     "metadata": {},
     "output_type": "execute_result"
    }
   ],
   "source": [
    "type(b)"
   ]
  },
  {
   "cell_type": "code",
   "execution_count": 168,
   "id": "96e60264-65f8-4c54-9845-30a1174c3576",
   "metadata": {},
   "outputs": [
    {
     "ename": "TypeError",
     "evalue": "can only concatenate str (not \"int\") to str",
     "output_type": "error",
     "traceback": [
      "\u001b[1;31m---------------------------------------------------------------------------\u001b[0m",
      "\u001b[1;31mTypeError\u001b[0m                                 Traceback (most recent call last)",
      "Cell \u001b[1;32mIn[168], line 1\u001b[0m\n\u001b[1;32m----> 1\u001b[0m b \u001b[38;5;241m+\u001b[39m \u001b[38;5;241m10\u001b[39m\n",
      "\u001b[1;31mTypeError\u001b[0m: can only concatenate str (not \"int\") to str"
     ]
    }
   ],
   "source": [
    "b + 10"
   ]
  },
  {
   "cell_type": "code",
   "execution_count": 170,
   "id": "4cbdac67-8ef2-4e7c-b395-bb440a3d18fb",
   "metadata": {},
   "outputs": [
    {
     "data": {
      "text/plain": [
       "20"
      ]
     },
     "execution_count": 170,
     "metadata": {},
     "output_type": "execute_result"
    }
   ],
   "source": [
    "int(b)+10"
   ]
  },
  {
   "cell_type": "code",
   "execution_count": null,
   "id": "9fc7ba03-fe6a-4ee1-83c9-412fe5bb8aac",
   "metadata": {},
   "outputs": [],
   "source": []
  },
  {
   "cell_type": "code",
   "execution_count": 179,
   "id": "c905be25-a7c5-470d-9317-6967734db012",
   "metadata": {},
   "outputs": [
    {
     "name": "stdout",
     "output_type": "stream",
     "text": [
      "<class 'str'>\n",
      "<class 'int'>\n"
     ]
    }
   ],
   "source": [
    "c = \"25\"\n",
    "print(type(c))\n",
    "print(type(int(c)))"
   ]
  },
  {
   "cell_type": "code",
   "execution_count": null,
   "id": "93d16e3d-977d-4ee1-bd5e-8d43feb3d624",
   "metadata": {},
   "outputs": [],
   "source": []
  },
  {
   "cell_type": "code",
   "execution_count": 182,
   "id": "c01252f3-cfd1-4472-9fa8-84d9b6869268",
   "metadata": {},
   "outputs": [],
   "source": [
    "s = 8.7"
   ]
  },
  {
   "cell_type": "code",
   "execution_count": 184,
   "id": "8ef99c60-1baf-427e-9391-1635c4e72a95",
   "metadata": {},
   "outputs": [
    {
     "data": {
      "text/plain": [
       "float"
      ]
     },
     "execution_count": 184,
     "metadata": {},
     "output_type": "execute_result"
    }
   ],
   "source": [
    "type(s)"
   ]
  },
  {
   "cell_type": "code",
   "execution_count": 186,
   "id": "8579f5e1-3fd0-45fd-850d-9f6731a0b392",
   "metadata": {},
   "outputs": [
    {
     "data": {
      "text/plain": [
       "8"
      ]
     },
     "execution_count": 186,
     "metadata": {},
     "output_type": "execute_result"
    }
   ],
   "source": [
    "int(s)"
   ]
  },
  {
   "cell_type": "code",
   "execution_count": 188,
   "id": "f639f35d-b5fc-4885-bb1d-8a66145c1a9e",
   "metadata": {},
   "outputs": [
    {
     "data": {
      "text/plain": [
       "8.7"
      ]
     },
     "execution_count": 188,
     "metadata": {},
     "output_type": "execute_result"
    }
   ],
   "source": [
    "float(s)"
   ]
  },
  {
   "cell_type": "code",
   "execution_count": null,
   "id": "dd7b9c56-65eb-4b2e-b721-94cd5ceef70e",
   "metadata": {},
   "outputs": [],
   "source": []
  },
  {
   "cell_type": "code",
   "execution_count": 191,
   "id": "62e66ce3-a45b-4cd2-bf23-e7d9b8112240",
   "metadata": {},
   "outputs": [
    {
     "ename": "TypeError",
     "evalue": "can only concatenate str (not \"int\") to str",
     "output_type": "error",
     "traceback": [
      "\u001b[1;31m---------------------------------------------------------------------------\u001b[0m",
      "\u001b[1;31mTypeError\u001b[0m                                 Traceback (most recent call last)",
      "Cell \u001b[1;32mIn[191], line 3\u001b[0m\n\u001b[0;32m      1\u001b[0m a \u001b[38;5;241m=\u001b[39m \u001b[38;5;124m\"\u001b[39m\u001b[38;5;124m Guru \u001b[39m\u001b[38;5;124m\"\u001b[39m\n\u001b[0;32m      2\u001b[0m b \u001b[38;5;241m=\u001b[39m \u001b[38;5;241m80\u001b[39m\n\u001b[1;32m----> 3\u001b[0m a\u001b[38;5;241m+\u001b[39mb\n",
      "\u001b[1;31mTypeError\u001b[0m: can only concatenate str (not \"int\") to str"
     ]
    }
   ],
   "source": [
    "a = \" Guru \"\n",
    "b = 80\n",
    "a+b"
   ]
  },
  {
   "cell_type": "code",
   "execution_count": 195,
   "id": "cfd293a5-7704-4f07-a41e-554b7d898b53",
   "metadata": {},
   "outputs": [
    {
     "data": {
      "text/plain": [
       "' Guru Kiran '"
      ]
     },
     "execution_count": 195,
     "metadata": {},
     "output_type": "execute_result"
    }
   ],
   "source": [
    "a = \" Guru \"\n",
    "b = \"Kiran \"\n",
    "a+b"
   ]
  },
  {
   "cell_type": "code",
   "execution_count": null,
   "id": "c52af466-859c-4181-9f49-7ec4c29f876e",
   "metadata": {},
   "outputs": [],
   "source": []
  },
  {
   "cell_type": "code",
   "execution_count": 200,
   "id": "35c477eb-35e9-4cf3-8581-a81cbceb9949",
   "metadata": {},
   "outputs": [
    {
     "data": {
      "text/plain": [
       "False"
      ]
     },
     "execution_count": 200,
     "metadata": {},
     "output_type": "execute_result"
    }
   ],
   "source": [
    "# Bool\n",
    "bool(0)"
   ]
  },
  {
   "cell_type": "code",
   "execution_count": 202,
   "id": "a1f4067e-ef46-4a0a-a5be-326327b80d10",
   "metadata": {},
   "outputs": [
    {
     "data": {
      "text/plain": [
       "True"
      ]
     },
     "execution_count": 202,
     "metadata": {},
     "output_type": "execute_result"
    }
   ],
   "source": [
    "bool(1)"
   ]
  },
  {
   "cell_type": "code",
   "execution_count": 204,
   "id": "40f0453d-e211-4fa0-8e14-af879f921986",
   "metadata": {},
   "outputs": [
    {
     "data": {
      "text/plain": [
       "True"
      ]
     },
     "execution_count": 204,
     "metadata": {},
     "output_type": "execute_result"
    }
   ],
   "source": [
    "bool(20)"
   ]
  },
  {
   "cell_type": "code",
   "execution_count": 206,
   "id": "4ebca3b3-57d9-484b-846b-0e453db59961",
   "metadata": {},
   "outputs": [
    {
     "data": {
      "text/plain": [
       "True"
      ]
     },
     "execution_count": 206,
     "metadata": {},
     "output_type": "execute_result"
    }
   ],
   "source": [
    "bool(-5)"
   ]
  },
  {
   "cell_type": "code",
   "execution_count": 210,
   "id": "a060ee7c-8a47-4b2b-8bac-42816aa59361",
   "metadata": {},
   "outputs": [
    {
     "data": {
      "text/plain": [
       "True"
      ]
     },
     "execution_count": 210,
     "metadata": {},
     "output_type": "execute_result"
    }
   ],
   "source": [
    "bool(\"ravi\")"
   ]
  },
  {
   "cell_type": "code",
   "execution_count": 212,
   "id": "ddece2d0-6ee5-46aa-b6ac-88b223b78075",
   "metadata": {},
   "outputs": [
    {
     "data": {
      "text/plain": [
       "False"
      ]
     },
     "execution_count": 212,
     "metadata": {},
     "output_type": "execute_result"
    }
   ],
   "source": [
    "bool(\"\")"
   ]
  },
  {
   "cell_type": "code",
   "execution_count": null,
   "id": "0a47a5a6-78d5-4964-b7f2-e53b3b43444c",
   "metadata": {},
   "outputs": [],
   "source": []
  },
  {
   "cell_type": "markdown",
   "id": "f82b9373-3b48-49ae-a8f5-1bbdf19dcb61",
   "metadata": {},
   "source": [
    "6. How do conditional statements work in Python? Illustrate with examples"
   ]
  },
  {
   "cell_type": "code",
   "execution_count": 29,
   "id": "ac618a69-0419-45af-ab6b-0f1bddee2de0",
   "metadata": {},
   "outputs": [],
   "source": [
    "#Conditionals in Python are used to execute code based on the evaluation of one or more conditions.\n",
    "#Python have conditional statements like as if, elif (else if), and else "
   ]
  },
  {
   "cell_type": "code",
   "execution_count": 8,
   "id": "7b049e1b-5b50-4e9b-a2fb-ae1e7c4e58ba",
   "metadata": {},
   "outputs": [
    {
     "name": "stdout",
     "output_type": "stream",
     "text": [
      "The number is grater than 20\n"
     ]
    }
   ],
   "source": [
    "a = 100\n",
    "if a > 20:\n",
    "    print(\"The number is grater than 20\")"
   ]
  },
  {
   "cell_type": "code",
   "execution_count": null,
   "id": "f9f40cb2-6a32-4466-8c95-c649c8603ba6",
   "metadata": {},
   "outputs": [],
   "source": []
  },
  {
   "cell_type": "code",
   "execution_count": 11,
   "id": "55742738-cae8-4d97-92f3-6bbcd78b2e26",
   "metadata": {},
   "outputs": [
    {
     "name": "stdout",
     "output_type": "stream",
     "text": [
      "The number is less than 20\n"
     ]
    }
   ],
   "source": [
    "a = 100\n",
    "if a < 20:\n",
    "    print(\"The number is grater than 20\")\n",
    "else:\n",
    "    print(\"The number is less than 20\")"
   ]
  },
  {
   "cell_type": "code",
   "execution_count": null,
   "id": "49fef2a9-1f79-45fd-b76c-67ed36da7639",
   "metadata": {},
   "outputs": [],
   "source": []
  },
  {
   "cell_type": "code",
   "execution_count": 26,
   "id": "94e1ea0e-1805-4770-b942-90e9425c3cfc",
   "metadata": {},
   "outputs": [
    {
     "name": "stdout",
     "output_type": "stream",
     "text": [
      "The number is even\n"
     ]
    }
   ],
   "source": [
    "num = 36\n",
    "if num % 2==0:\n",
    "    print(\"The number is even\")\n",
    "else:\n",
    "    print(\"The number is odd\")"
   ]
  },
  {
   "cell_type": "code",
   "execution_count": null,
   "id": "000a1c71-1534-4c47-a917-884bef2449bd",
   "metadata": {},
   "outputs": [],
   "source": []
  },
  {
   "cell_type": "code",
   "execution_count": 17,
   "id": "53dc2a32-8a99-4de3-b9ae-9290d928f2b9",
   "metadata": {},
   "outputs": [
    {
     "name": "stdout",
     "output_type": "stream",
     "text": [
      "The number is useable\n"
     ]
    }
   ],
   "source": [
    "num = 78\n",
    "if ((num % 2== 0) & (num >50)):\n",
    "    print(\"The number is useable\")"
   ]
  },
  {
   "cell_type": "code",
   "execution_count": null,
   "id": "b2995ed4-02b6-4fb8-85f8-30cb3ec39013",
   "metadata": {},
   "outputs": [],
   "source": []
  },
  {
   "cell_type": "code",
   "execution_count": 24,
   "id": "e051f646-0ff5-4327-9494-f39980f7e321",
   "metadata": {},
   "outputs": [
    {
     "name": "stdout",
     "output_type": "stream",
     "text": [
      "you cannot put vote\n"
     ]
    }
   ],
   "source": [
    "age = 17\n",
    "if age >= 18:\n",
    "    print(\"You can put vote\")\n",
    "else:\n",
    "    print(\"you cannot put vote\")"
   ]
  },
  {
   "cell_type": "code",
   "execution_count": null,
   "id": "f85e2ea6-0b01-47aa-8dcf-8626c3f68771",
   "metadata": {},
   "outputs": [],
   "source": []
  },
  {
   "cell_type": "code",
   "execution_count": 33,
   "id": "f254d405-c432-4855-866e-6fdae1abf0e0",
   "metadata": {},
   "outputs": [
    {
     "name": "stdout",
     "output_type": "stream",
     "text": [
      "Grade A\n"
     ]
    }
   ],
   "source": [
    "score = 96\n",
    "if (score >=90):\n",
    "    print(\"Grade A\")\n",
    "elif (80<= score < 90):\n",
    "    print(\"Grade B\")\n",
    "elif (70<= score <80):\n",
    "    print(\"Grade C\")\n",
    "else:\n",
    "    print(\"Grade D\")"
   ]
  },
  {
   "cell_type": "code",
   "execution_count": null,
   "id": "3d6a7c03-49fb-406a-91c4-287f101df63c",
   "metadata": {},
   "outputs": [],
   "source": []
  },
  {
   "cell_type": "code",
   "execution_count": 36,
   "id": "758a8ea0-4ee4-4ff8-b54b-b3e0c22590b8",
   "metadata": {},
   "outputs": [],
   "source": [
    "#nested if else"
   ]
  },
  {
   "cell_type": "code",
   "execution_count": 48,
   "id": "88805a63-99b2-4556-96fe-fe25d2ebbc0b",
   "metadata": {},
   "outputs": [
    {
     "name": "stdout",
     "output_type": "stream",
     "text": [
      "x is not greater than 5\n"
     ]
    }
   ],
   "source": [
    "x = 1\n",
    "y = 6\n",
    "if x > 5:\n",
    "    if y>6:\n",
    "        print(\"Both x and y is greater then 5\")\n",
    "    else:\n",
    "        print(\"x is greater then 5 but y is less then 5\")\n",
    "else:\n",
    "    print(\"x is not greater than 5\")"
   ]
  },
  {
   "cell_type": "code",
   "execution_count": 46,
   "id": "e855ae4f-887f-4907-a355-5be47a196385",
   "metadata": {},
   "outputs": [
    {
     "name": "stdout",
     "output_type": "stream",
     "text": [
      "x is greater then 5 but y is less then 5\n"
     ]
    }
   ],
   "source": [
    "x = 1\n",
    "y = 6\n",
    "if x > 0:\n",
    "    if y>6:\n",
    "        print(\"Both x and y is greater then 5\")\n",
    "    else:\n",
    "        print(\"x is greater then 5 but y is less then 5\")\n",
    "else:\n",
    "    print(\"x is not greater\")"
   ]
  },
  {
   "cell_type": "code",
   "execution_count": null,
   "id": "af6d741a-c3a2-4d73-ae9b-e1ea1117e949",
   "metadata": {},
   "outputs": [],
   "source": []
  },
  {
   "cell_type": "code",
   "execution_count": 59,
   "id": "3d034091-7f6e-4de1-8c38-6abf987b3e71",
   "metadata": {},
   "outputs": [
    {
     "name": "stdin",
     "output_type": "stream",
     "text": [
      "Enter your name  Ragu\n",
      "Enter your email raguhib0@email.com\n",
      "Enter your password 213058\n"
     ]
    },
    {
     "name": "stdout",
     "output_type": "stream",
     "text": [
      "please enter your vailed password\n"
     ]
    }
   ],
   "source": [
    "name = input(\"Enter your name \")\n",
    "email = input(\"Enter your email\")\n",
    "password = input(\"Enter your password\")\n",
    "if name == \"\":\n",
    "    print(\"please enter your name\")\n",
    "else:    \n",
    "    if email ==\"@\":\n",
    "        print(\"please enter your name\")\n",
    "    else:\n",
    "        if len(password) > 0:\n",
    "            print(\"please enter your vailed password\")\n",
    "        else:\n",
    "            print(\"Detail is uploaded successfully\")"
   ]
  },
  {
   "cell_type": "code",
   "execution_count": null,
   "id": "d745dee9-8de6-487d-a126-b01ff63e6e9d",
   "metadata": {},
   "outputs": [],
   "source": []
  },
  {
   "cell_type": "markdown",
   "id": "7e04404b-7c7c-4189-9cee-f74565888e8b",
   "metadata": {},
   "source": [
    "7. Describe the different types of loops in Python and their use cases with examples."
   ]
  },
  {
   "cell_type": "code",
   "execution_count": 31,
   "id": "e6b878d7-2376-46d9-9547-012eccc8f62b",
   "metadata": {},
   "outputs": [],
   "source": [
    "#In Python, loops are employed to repeat a sequence of actions or code until a specific condition is fulfilled. \n",
    "#Python offers two primary types of loops: for loops and while loops. \n",
    "#“for” loops are used for iterating over a sequence of elements, while “while” loops are used for executing code until a specified condition becomes False"
   ]
  },
  {
   "cell_type": "code",
   "execution_count": null,
   "id": "d8242be3-fd6c-490e-93ad-8a86aab0af4a",
   "metadata": {},
   "outputs": [],
   "source": [
    "#while"
   ]
  },
  {
   "cell_type": "code",
   "execution_count": 71,
   "id": "95b98a2a-0cf7-485f-826e-c04d94d3ca3c",
   "metadata": {},
   "outputs": [
    {
     "name": "stdout",
     "output_type": "stream",
     "text": [
      "1\n",
      "2\n",
      "3\n",
      "4\n"
     ]
    }
   ],
   "source": [
    "n = 5\n",
    "i = 1\n",
    "while i < n:\n",
    "    print(i)\n",
    "    i = i+1"
   ]
  },
  {
   "cell_type": "code",
   "execution_count": null,
   "id": "6758a2db-4c39-4c4e-afb0-53eab8d88176",
   "metadata": {},
   "outputs": [],
   "source": []
  },
  {
   "cell_type": "code",
   "execution_count": 78,
   "id": "8544a703-cb86-404b-a145-4718d990a065",
   "metadata": {},
   "outputs": [
    {
     "name": "stdout",
     "output_type": "stream",
     "text": [
      "5\n",
      "4\n",
      "3\n",
      "2\n",
      "1\n",
      "successfully executed without any Break\n"
     ]
    }
   ],
   "source": [
    "a = 5\n",
    "while a > 0:\n",
    "    print(a)\n",
    "    a = a-1\n",
    "else:\n",
    "    print(\"successfully executed without any Break\")"
   ]
  },
  {
   "cell_type": "code",
   "execution_count": null,
   "id": "981f6447-394f-41e0-84c1-33db3cd267f7",
   "metadata": {},
   "outputs": [],
   "source": []
  },
  {
   "cell_type": "code",
   "execution_count": 81,
   "id": "3b0bbeef-ef3d-49e4-a355-65622572fd05",
   "metadata": {},
   "outputs": [],
   "source": [
    "#Break is exit the loop"
   ]
  },
  {
   "cell_type": "code",
   "execution_count": 91,
   "id": "ecbcebdc-4b9b-4680-bb3b-e9bde5ca335d",
   "metadata": {},
   "outputs": [
    {
     "name": "stdout",
     "output_type": "stream",
     "text": [
      "10\n",
      "9\n",
      "8\n",
      "7\n"
     ]
    }
   ],
   "source": [
    "a = 10\n",
    "while a > 0:\n",
    "    print(a)\n",
    "    a = a-1\n",
    "    if a == 6:\n",
    "        break"
   ]
  },
  {
   "cell_type": "code",
   "execution_count": 100,
   "id": "ac0e45b7-a250-4969-ab5a-8d4b73f86806",
   "metadata": {},
   "outputs": [],
   "source": [
    "#for"
   ]
  },
  {
   "cell_type": "code",
   "execution_count": 109,
   "id": "01802d45-373b-44a7-a2cb-4312a74e4a6b",
   "metadata": {},
   "outputs": [
    {
     "name": "stdout",
     "output_type": "stream",
     "text": [
      "A\n",
      "r\n",
      "u\n",
      "n\n"
     ]
    }
   ],
   "source": [
    "for A in \"Arun\":\n",
    "    print(A)"
   ]
  },
  {
   "cell_type": "code",
   "execution_count": 117,
   "id": "4be19730-5a5a-45ec-addc-065b40c44ab8",
   "metadata": {},
   "outputs": [
    {
     "name": "stdout",
     "output_type": "stream",
     "text": [
      "1\n",
      "2\n",
      "Arun\n",
      "3.8\n"
     ]
    }
   ],
   "source": [
    "a = [1, 2, \"Arun\", 3.8]\n",
    "for A in a:\n",
    "    print(A)"
   ]
  },
  {
   "cell_type": "code",
   "execution_count": 121,
   "id": "cccdf691-f190-4501-a297-1cad8b1b7def",
   "metadata": {},
   "outputs": [
    {
     "name": "stdout",
     "output_type": "stream",
     "text": [
      "2\n",
      "3\n",
      "7.5\n",
      "Bharat\n",
      "Raju\n",
      "This is execut successfully\n"
     ]
    }
   ],
   "source": [
    "l = [2, 3, 7.5, \"Bharat\", \"Raju\"]\n",
    "for i in l:\n",
    "    print(i)\n",
    "else:\n",
    "    print(\"This is execut successfully\")"
   ]
  },
  {
   "cell_type": "code",
   "execution_count": null,
   "id": "f161e33e-2633-4f15-939b-a67dc1500f06",
   "metadata": {},
   "outputs": [],
   "source": []
  },
  {
   "cell_type": "code",
   "execution_count": null,
   "id": "cdc75a74-76f1-406e-bac1-11af2d9c4022",
   "metadata": {},
   "outputs": [],
   "source": []
  }
 ],
 "metadata": {
  "kernelspec": {
   "display_name": "Python 3 (ipykernel)",
   "language": "python",
   "name": "python3"
  },
  "language_info": {
   "codemirror_mode": {
    "name": "ipython",
    "version": 3
   },
   "file_extension": ".py",
   "mimetype": "text/x-python",
   "name": "python",
   "nbconvert_exporter": "python",
   "pygments_lexer": "ipython3",
   "version": "3.12.4"
  }
 },
 "nbformat": 4,
 "nbformat_minor": 5
}
